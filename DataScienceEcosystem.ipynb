{
 "cells": [
  {
   "cell_type": "markdown",
   "id": "6fe925e4-8b86-4e9d-abdb-adfb8073fd33",
   "metadata": {},
   "source": [
    "# Data Science Tools and Ecosystem"
   ]
  },
  {
   "cell_type": "markdown",
   "id": "ecf4871d-448d-48d5-ad52-b2b9329da141",
   "metadata": {},
   "source": [
    "In this notebook, Data Science Tools and Ecosystem are summarized."
   ]
  },
  {
   "cell_type": "markdown",
   "id": "67f0cbf8-66ea-4f66-8b6b-9197f561efe0",
   "metadata": {},
   "source": [
    "Some of the popular languages that Data Scientists use are:\r\n",
    "\r\n",
    "- Python\r\n",
    "- R\r\n",
    "- SQL\r\n",
    "- Julia\r\n",
    "- Scala"
   ]
  },
  {
   "cell_type": "markdown",
   "id": "8920b061-7c13-4495-8cc4-3b5078726a0a",
   "metadata": {},
   "source": [
    "Some of the commonly used libraries by Data Scientists include:"
   ]
  },
  {
   "cell_type": "markdown",
   "id": "3ee09c8d-5dbb-435f-8c72-5e03198e4ece",
   "metadata": {},
   "source": [
    "1. Pandas - for data manipulation and analysis.\r\n",
    "2. NumPy - for numerical computing with Python.\r\n",
    "3. Matplotlib - for creating static, interactive, and animated visualizations in Python.\r\n",
    "4. Scikit-learn - for machine learning and data mining."
   ]
  },
  {
   "cell_type": "markdown",
   "id": "81bbdf72-05b1-483f-961e-bf486d6ba6c4",
   "metadata": {},
   "source": [
    "Data Science Tools"
   ]
  },
  {
   "cell_type": "markdown",
   "id": "914749ea-5232-40ff-aa90-794eb8b50824",
   "metadata": {},
   "source": [
    "| Data Science Tools |\r\n",
    "|--------------------|\r\n",
    "| Jupyter Notebooks  |\r\n",
    "| RStudio            |\r\n",
    "| Spyder             |"
   ]
  },
  {
   "cell_type": "markdown",
   "id": "a8af6213-5b4c-4a98-b683-2313a754c49c",
   "metadata": {},
   "source": [
    "### Below are a few examples of evaluating arithmetic expressions in Python."
   ]
  },
  {
   "cell_type": "code",
   "execution_count": 1,
   "id": "e1701ca2-e25a-4375-8b95-62468d4fe92f",
   "metadata": {},
   "outputs": [
    {
     "name": "stdout",
     "output_type": "stream",
     "text": [
      "17\n"
     ]
    }
   ],
   "source": [
    "# This is a simple arithmetic expression to multiply then add integers\n",
    "result = (3 * 4) + 5\n",
    "print(result)"
   ]
  },
  {
   "cell_type": "code",
   "execution_count": 2,
   "id": "0bb6a2d4-3f0e-4be2-ab74-a091ca26f209",
   "metadata": {},
   "outputs": [
    {
     "name": "stdout",
     "output_type": "stream",
     "text": [
      "3.3333333333333335\n"
     ]
    }
   ],
   "source": [
    "# This will convert 200 minutes to hours by dividing by 60\n",
    "minutes = 200\n",
    "hours = minutes / 60\n",
    "print(hours)"
   ]
  },
  {
   "cell_type": "markdown",
   "id": "b662fe5f-d2ab-4b1c-812c-c84c3785c895",
   "metadata": {},
   "source": [
    "**Objectives:**"
   ]
  },
  {
   "cell_type": "markdown",
   "id": "933da5bb-3be2-4e20-a249-55b58af35d9e",
   "metadata": {},
   "source": [
    "- List popular languages for Data Science.\r\n",
    "- Describe commonly used Data Science libraries.\r\n",
    "- Explain the use of development environments in Data Science.\r\n",
    "- Demonstrate basic arithmetic operations in Python.\r\n",
    "- Convert units of measurement, such as minutes to hours."
   ]
  },
  {
   "cell_type": "markdown",
   "id": "64db6ddb-0f48-4446-a44a-120258d09807",
   "metadata": {},
   "source": [
    "## Author\r",
    "Juan Antonio Garciae"
   ]
  },
  {
   "cell_type": "code",
   "execution_count": null,
   "id": "220caae0-b0f4-4447-af80-afa0b6d403fb",
   "metadata": {},
   "outputs": [],
   "source": []
  }
 ],
 "metadata": {
  "kernelspec": {
   "display_name": "Python 3 (ipykernel)",
   "language": "python",
   "name": "python3"
  },
  "language_info": {
   "codemirror_mode": {
    "name": "ipython",
    "version": 3
   },
   "file_extension": ".py",
   "mimetype": "text/x-python",
   "name": "python",
   "nbconvert_exporter": "python",
   "pygments_lexer": "ipython3",
   "version": "3.12.2"
  }
 },
 "nbformat": 4,
 "nbformat_minor": 5
}
